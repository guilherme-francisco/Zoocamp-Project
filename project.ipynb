{
 "cells": [
  {
   "cell_type": "markdown",
   "id": "49ee81ba",
   "metadata": {},
   "source": [
    "## Import Packages and Libraries"
   ]
  },
  {
   "cell_type": "code",
   "execution_count": 2,
   "id": "0f89a76a-76ae-49eb-a185-360699f357c0",
   "metadata": {},
   "outputs": [],
   "source": [
    "import pandas as pd\n",
    "import boto3\n",
    "from io import StringIO \n",
    "import psycopg2\n",
    "from dotenv import load_dotenv \n",
    "import os"
   ]
  },
  {
   "cell_type": "markdown",
   "id": "4c7bbd86",
   "metadata": {},
   "source": [
    "# Getting the Data\n",
    "\n",
    "- Getting data from: [Cycling Data](https://cycling.data.tfl.gov.uk/)"
   ]
  },
  {
   "cell_type": "code",
   "execution_count": 4,
   "id": "eba2c1d6-fd69-40e5-b63a-092ac77dca6b",
   "metadata": {},
   "outputs": [
    {
     "data": {
      "text/html": [
       "<div>\n",
       "<style scoped>\n",
       "    .dataframe tbody tr th:only-of-type {\n",
       "        vertical-align: middle;\n",
       "    }\n",
       "\n",
       "    .dataframe tbody tr th {\n",
       "        vertical-align: top;\n",
       "    }\n",
       "\n",
       "    .dataframe thead th {\n",
       "        text-align: right;\n",
       "    }\n",
       "</style>\n",
       "<table border=\"1\" class=\"dataframe\">\n",
       "  <thead>\n",
       "    <tr style=\"text-align: right;\">\n",
       "      <th></th>\n",
       "      <th>Number</th>\n",
       "      <th>Start date</th>\n",
       "      <th>Start station number</th>\n",
       "      <th>Start station</th>\n",
       "      <th>End date</th>\n",
       "      <th>End station number</th>\n",
       "      <th>End station</th>\n",
       "      <th>Bike number</th>\n",
       "      <th>Bike model</th>\n",
       "      <th>Total duration</th>\n",
       "      <th>Total duration (ms)</th>\n",
       "    </tr>\n",
       "  </thead>\n",
       "  <tbody>\n",
       "    <tr>\n",
       "      <th>0</th>\n",
       "      <td>135967971</td>\n",
       "      <td>2023-11-30 23:59</td>\n",
       "      <td>970</td>\n",
       "      <td>Scala Street, Fitzrovia</td>\n",
       "      <td>2023-12-01 00:00</td>\n",
       "      <td>2691</td>\n",
       "      <td>Howland Street, Fitzrovia</td>\n",
       "      <td>52164</td>\n",
       "      <td>CLASSIC</td>\n",
       "      <td>1m 47s</td>\n",
       "      <td>107899</td>\n",
       "    </tr>\n",
       "    <tr>\n",
       "      <th>1</th>\n",
       "      <td>135967972</td>\n",
       "      <td>2023-11-30 23:59</td>\n",
       "      <td>3478</td>\n",
       "      <td>Guildhouse Street, Victoria</td>\n",
       "      <td>2023-12-01 00:06</td>\n",
       "      <td>1165</td>\n",
       "      <td>Riverlight North, Nine Elms</td>\n",
       "      <td>60462</td>\n",
       "      <td>PBSC_EBIKE</td>\n",
       "      <td>7m 1s</td>\n",
       "      <td>421332</td>\n",
       "    </tr>\n",
       "    <tr>\n",
       "      <th>2</th>\n",
       "      <td>135967973</td>\n",
       "      <td>2023-11-30 23:59</td>\n",
       "      <td>2660</td>\n",
       "      <td>Frith Street, Soho</td>\n",
       "      <td>2023-12-01 00:18</td>\n",
       "      <td>200151</td>\n",
       "      <td>Hoxton Station, Hoxton</td>\n",
       "      <td>58804</td>\n",
       "      <td>CLASSIC</td>\n",
       "      <td>18m 59s</td>\n",
       "      <td>1139805</td>\n",
       "    </tr>\n",
       "    <tr>\n",
       "      <th>3</th>\n",
       "      <td>135967974</td>\n",
       "      <td>2023-11-30 23:59</td>\n",
       "      <td>3458</td>\n",
       "      <td>Waterloo Place, St. James's</td>\n",
       "      <td>2023-12-01 00:08</td>\n",
       "      <td>3465</td>\n",
       "      <td>Eccleston Place, Victoria</td>\n",
       "      <td>20077</td>\n",
       "      <td>CLASSIC</td>\n",
       "      <td>8m 17s</td>\n",
       "      <td>497254</td>\n",
       "    </tr>\n",
       "    <tr>\n",
       "      <th>4</th>\n",
       "      <td>135967975</td>\n",
       "      <td>2023-11-30 23:59</td>\n",
       "      <td>1020</td>\n",
       "      <td>Leonard Circus , Shoreditch</td>\n",
       "      <td>2023-12-01 00:12</td>\n",
       "      <td>22173</td>\n",
       "      <td>Old Ford Road, Bethnal Green</td>\n",
       "      <td>53834</td>\n",
       "      <td>CLASSIC</td>\n",
       "      <td>12m 23s</td>\n",
       "      <td>743051</td>\n",
       "    </tr>\n",
       "  </tbody>\n",
       "</table>\n",
       "</div>"
      ],
      "text/plain": [
       "      Number        Start date  Start station number  \\\n",
       "0  135967971  2023-11-30 23:59                   970   \n",
       "1  135967972  2023-11-30 23:59                  3478   \n",
       "2  135967973  2023-11-30 23:59                  2660   \n",
       "3  135967974  2023-11-30 23:59                  3458   \n",
       "4  135967975  2023-11-30 23:59                  1020   \n",
       "\n",
       "                 Start station          End date  End station number  \\\n",
       "0      Scala Street, Fitzrovia  2023-12-01 00:00                2691   \n",
       "1  Guildhouse Street, Victoria  2023-12-01 00:06                1165   \n",
       "2           Frith Street, Soho  2023-12-01 00:18              200151   \n",
       "3  Waterloo Place, St. James's  2023-12-01 00:08                3465   \n",
       "4  Leonard Circus , Shoreditch  2023-12-01 00:12               22173   \n",
       "\n",
       "                    End station  Bike number  Bike model Total duration  \\\n",
       "0     Howland Street, Fitzrovia        52164     CLASSIC         1m 47s   \n",
       "1   Riverlight North, Nine Elms        60462  PBSC_EBIKE          7m 1s   \n",
       "2        Hoxton Station, Hoxton        58804     CLASSIC        18m 59s   \n",
       "3     Eccleston Place, Victoria        20077     CLASSIC         8m 17s   \n",
       "4  Old Ford Road, Bethnal Green        53834     CLASSIC        12m 23s   \n",
       "\n",
       "   Total duration (ms)  \n",
       "0               107899  \n",
       "1               421332  \n",
       "2              1139805  \n",
       "3               497254  \n",
       "4               743051  "
      ]
     },
     "execution_count": 4,
     "metadata": {},
     "output_type": "execute_result"
    }
   ],
   "source": [
    "url = 'https://cycling.data.tfl.gov.uk/usage-stats/384JourneyDataExtract15Nov2023-30Nov2023.csv'\n",
    "storage_options = {'User-Agent': 'Mozilla/5.0'}\n",
    "df = pd.read_csv(url, storage_options=storage_options)\n",
    "df.head()"
   ]
  },
  {
   "cell_type": "markdown",
   "id": "598f6ae5",
   "metadata": {},
   "source": [
    "# Define functions and constants"
   ]
  },
  {
   "cell_type": "markdown",
   "id": "f0f4b0ac",
   "metadata": {},
   "source": [
    "## constants"
   ]
  },
  {
   "cell_type": "code",
   "execution_count": 5,
   "id": "80e381b9-cb0d-4319-9950-364445fd3394",
   "metadata": {},
   "outputs": [],
   "source": [
    "load_dotenv()\n",
    "\n",
    "s3 = boto3.resource('s3')\n",
    "bucket_name = 'bicycle-rental-london'\n",
    "file_name = 'data.csv'\n",
    "region_name = 'us-east-1'\n",
    "cluster_params = {\n",
    "    'ClusterIdentifier': 'bicycle-london-cluster',\n",
    "    'NodeType': 'dc2.large',\n",
    "    'MasterUsername': os.environ['MASTER_USER_NAME'],\n",
    "    'MasterUserPassword': os.environ['MasterUserPassword'],\n",
    "    'DBName': os.environ['DB_NAME'],\n",
    "    'ClusterType': 'single-node',\n",
    "    'PubliclyAccessible': True,    \n",
    "}\n",
    "\n",
    "table_name = 'bike_rental_data'\n"
   ]
  },
  {
   "cell_type": "markdown",
   "id": "334dbcb4",
   "metadata": {},
   "source": [
    "## Functions"
   ]
  },
  {
   "cell_type": "code",
   "execution_count": 6,
   "id": "92cfedc5",
   "metadata": {},
   "outputs": [],
   "source": [
    "def create_bucket(bucket_name):\n",
    "    response = s3.create_bucket(\n",
    "        Bucket=bucket_name,\n",
    "    )\n",
    "    print(\"Bucket created:\", bucket_name)\n",
    "    return response"
   ]
  },
  {
   "cell_type": "code",
   "execution_count": 24,
   "id": "20f6bbfc",
   "metadata": {},
   "outputs": [],
   "source": [
    "def delete_bucket(bucket_name : str, file_name : str):\n",
    "    client = boto3.client('s3')\n",
    "    client.delete_object(Bucket = bucket_name, Key = file_name)\n",
    "    response = client.delete_bucket(\n",
    "        Bucket=bucket_name\n",
    "    )\n",
    "    print(\"Bucket deleted:\", bucket_name)\n",
    "    return response"
   ]
  },
  {
   "cell_type": "markdown",
   "id": "f3f300be",
   "metadata": {},
   "source": [
    "# Put dataframe inside data lake (S3 Bucket)"
   ]
  },
  {
   "cell_type": "markdown",
   "id": "5d369153",
   "metadata": {},
   "source": [
    "## Creating bucket"
   ]
  },
  {
   "cell_type": "code",
   "execution_count": 16,
   "id": "8ef865c2",
   "metadata": {},
   "outputs": [
    {
     "name": "stdout",
     "output_type": "stream",
     "text": [
      "Bucket created: bycle-rental-london\n"
     ]
    },
    {
     "data": {
      "text/plain": [
       "s3.Bucket(name='bycle-rental-london')"
      ]
     },
     "execution_count": 16,
     "metadata": {},
     "output_type": "execute_result"
    }
   ],
   "source": [
    "create_bucket(bucket_name=bucket_name)"
   ]
  },
  {
   "cell_type": "code",
   "execution_count": 71,
   "id": "f7887a17",
   "metadata": {},
   "outputs": [
    {
     "name": "stdout",
     "output_type": "stream",
     "text": [
      "bycle-rental-london\n"
     ]
    }
   ],
   "source": [
    "# Check if it was created\n",
    "for bucket in s3.buckets.all():\n",
    "    print(bucket.name)"
   ]
  },
  {
   "cell_type": "markdown",
   "id": "75fe3258",
   "metadata": {},
   "source": [
    "## Put the data"
   ]
  },
  {
   "cell_type": "code",
   "execution_count": 77,
   "id": "58c5b9a3",
   "metadata": {},
   "outputs": [
    {
     "data": {
      "text/html": [
       "<div>\n",
       "<style scoped>\n",
       "    .dataframe tbody tr th:only-of-type {\n",
       "        vertical-align: middle;\n",
       "    }\n",
       "\n",
       "    .dataframe tbody tr th {\n",
       "        vertical-align: top;\n",
       "    }\n",
       "\n",
       "    .dataframe thead th {\n",
       "        text-align: right;\n",
       "    }\n",
       "</style>\n",
       "<table border=\"1\" class=\"dataframe\">\n",
       "  <thead>\n",
       "    <tr style=\"text-align: right;\">\n",
       "      <th></th>\n",
       "      <th>Number</th>\n",
       "      <th>Start date</th>\n",
       "      <th>Start station number</th>\n",
       "      <th>Start station</th>\n",
       "      <th>End date</th>\n",
       "      <th>End station number</th>\n",
       "      <th>End station</th>\n",
       "      <th>Bike number</th>\n",
       "      <th>Bike model</th>\n",
       "      <th>Total duration</th>\n",
       "      <th>Total duration (ms)</th>\n",
       "    </tr>\n",
       "    <tr>\n",
       "      <th>index</th>\n",
       "      <th></th>\n",
       "      <th></th>\n",
       "      <th></th>\n",
       "      <th></th>\n",
       "      <th></th>\n",
       "      <th></th>\n",
       "      <th></th>\n",
       "      <th></th>\n",
       "      <th></th>\n",
       "      <th></th>\n",
       "      <th></th>\n",
       "    </tr>\n",
       "  </thead>\n",
       "  <tbody>\n",
       "    <tr>\n",
       "      <th>0</th>\n",
       "      <td>135292553</td>\n",
       "      <td>2023-10-31 23:59</td>\n",
       "      <td>1009</td>\n",
       "      <td>Taviton Street, Bloomsbury</td>\n",
       "      <td>2023-11-01 00:20</td>\n",
       "      <td>1153</td>\n",
       "      <td>Pall Mall East, West End</td>\n",
       "      <td>54429</td>\n",
       "      <td>CLASSIC</td>\n",
       "      <td>20m 24s</td>\n",
       "      <td>1224353</td>\n",
       "    </tr>\n",
       "    <tr>\n",
       "      <th>1</th>\n",
       "      <td>135292554</td>\n",
       "      <td>2023-11-01 00:00</td>\n",
       "      <td>300012</td>\n",
       "      <td>Irene Road, Parsons Green</td>\n",
       "      <td>2023-11-01 00:06</td>\n",
       "      <td>300058</td>\n",
       "      <td>The Vale, Chelsea</td>\n",
       "      <td>60442</td>\n",
       "      <td>PBSC_EBIKE</td>\n",
       "      <td>6m 18s</td>\n",
       "      <td>378747</td>\n",
       "    </tr>\n",
       "    <tr>\n",
       "      <th>2</th>\n",
       "      <td>135292549</td>\n",
       "      <td>2023-10-31 23:58</td>\n",
       "      <td>300080</td>\n",
       "      <td>Culvert Road, Battersea</td>\n",
       "      <td>2023-11-01 00:09</td>\n",
       "      <td>1135</td>\n",
       "      <td>Claverton Street, Pimlico</td>\n",
       "      <td>53480</td>\n",
       "      <td>CLASSIC</td>\n",
       "      <td>10m 20s</td>\n",
       "      <td>620273</td>\n",
       "    </tr>\n",
       "    <tr>\n",
       "      <th>3</th>\n",
       "      <td>135292550</td>\n",
       "      <td>2023-10-31 23:58</td>\n",
       "      <td>300249</td>\n",
       "      <td>Westminster Pier, Westminster</td>\n",
       "      <td>2023-11-01 00:03</td>\n",
       "      <td>1219</td>\n",
       "      <td>Lower Marsh, Waterloo</td>\n",
       "      <td>20962</td>\n",
       "      <td>CLASSIC</td>\n",
       "      <td>4m 4s</td>\n",
       "      <td>244652</td>\n",
       "    </tr>\n",
       "    <tr>\n",
       "      <th>4</th>\n",
       "      <td>135292551</td>\n",
       "      <td>2023-10-31 23:59</td>\n",
       "      <td>1228</td>\n",
       "      <td>Southampton Street, Strand</td>\n",
       "      <td>2023-11-01 00:17</td>\n",
       "      <td>200195</td>\n",
       "      <td>St Martins Close, Camden Town</td>\n",
       "      <td>57448</td>\n",
       "      <td>CLASSIC</td>\n",
       "      <td>18m 29s</td>\n",
       "      <td>1109695</td>\n",
       "    </tr>\n",
       "    <tr>\n",
       "      <th>...</th>\n",
       "      <td>...</td>\n",
       "      <td>...</td>\n",
       "      <td>...</td>\n",
       "      <td>...</td>\n",
       "      <td>...</td>\n",
       "      <td>...</td>\n",
       "      <td>...</td>\n",
       "      <td>...</td>\n",
       "      <td>...</td>\n",
       "      <td>...</td>\n",
       "      <td>...</td>\n",
       "    </tr>\n",
       "    <tr>\n",
       "      <th>383799</th>\n",
       "      <td>134901998</td>\n",
       "      <td>2023-10-15 00:00</td>\n",
       "      <td>3506</td>\n",
       "      <td>Stanhope Gate, Mayfair</td>\n",
       "      <td>2023-10-15 00:04</td>\n",
       "      <td>1230</td>\n",
       "      <td>Millennium Hotel, Mayfair</td>\n",
       "      <td>55433</td>\n",
       "      <td>CLASSIC</td>\n",
       "      <td>3m 54s</td>\n",
       "      <td>234020</td>\n",
       "    </tr>\n",
       "    <tr>\n",
       "      <th>383800</th>\n",
       "      <td>134901999</td>\n",
       "      <td>2023-10-15 00:00</td>\n",
       "      <td>3500</td>\n",
       "      <td>Baldwin Street, St. Luke's</td>\n",
       "      <td>2023-10-15 00:32</td>\n",
       "      <td>200156</td>\n",
       "      <td>Pott Street, Bethnal Green</td>\n",
       "      <td>60528</td>\n",
       "      <td>PBSC_EBIKE</td>\n",
       "      <td>31m 39s</td>\n",
       "      <td>1899342</td>\n",
       "    </tr>\n",
       "    <tr>\n",
       "      <th>383801</th>\n",
       "      <td>134902000</td>\n",
       "      <td>2023-10-15 00:00</td>\n",
       "      <td>200081</td>\n",
       "      <td>Coomer Place, West Kensington</td>\n",
       "      <td>2023-10-15 00:15</td>\n",
       "      <td>200197</td>\n",
       "      <td>Barons Court Station, West Kensington</td>\n",
       "      <td>54329</td>\n",
       "      <td>CLASSIC</td>\n",
       "      <td>14m 13s</td>\n",
       "      <td>853745</td>\n",
       "    </tr>\n",
       "    <tr>\n",
       "      <th>383802</th>\n",
       "      <td>134902001</td>\n",
       "      <td>2023-10-15 00:01</td>\n",
       "      <td>3486</td>\n",
       "      <td>St. Luke's Church, Chelsea</td>\n",
       "      <td>2023-10-15 00:12</td>\n",
       "      <td>1195</td>\n",
       "      <td>St. George's Square, Pimlico</td>\n",
       "      <td>57259</td>\n",
       "      <td>CLASSIC</td>\n",
       "      <td>11m 58s</td>\n",
       "      <td>718906</td>\n",
       "    </tr>\n",
       "    <tr>\n",
       "      <th>383803</th>\n",
       "      <td>134902002</td>\n",
       "      <td>2023-10-15 00:01</td>\n",
       "      <td>1037</td>\n",
       "      <td>Park Lane , Hyde Park</td>\n",
       "      <td>2023-10-15 00:06</td>\n",
       "      <td>1109</td>\n",
       "      <td>Wellington Arch, Hyde Park</td>\n",
       "      <td>20205</td>\n",
       "      <td>CLASSIC</td>\n",
       "      <td>5m 27s</td>\n",
       "      <td>327702</td>\n",
       "    </tr>\n",
       "  </tbody>\n",
       "</table>\n",
       "<p>383804 rows × 11 columns</p>\n",
       "</div>"
      ],
      "text/plain": [
       "           Number        Start date  Start station number  \\\n",
       "index                                                       \n",
       "0       135292553  2023-10-31 23:59                  1009   \n",
       "1       135292554  2023-11-01 00:00                300012   \n",
       "2       135292549  2023-10-31 23:58                300080   \n",
       "3       135292550  2023-10-31 23:58                300249   \n",
       "4       135292551  2023-10-31 23:59                  1228   \n",
       "...           ...               ...                   ...   \n",
       "383799  134901998  2023-10-15 00:00                  3506   \n",
       "383800  134901999  2023-10-15 00:00                  3500   \n",
       "383801  134902000  2023-10-15 00:00                200081   \n",
       "383802  134902001  2023-10-15 00:01                  3486   \n",
       "383803  134902002  2023-10-15 00:01                  1037   \n",
       "\n",
       "                        Start station          End date  End station number  \\\n",
       "index                                                                         \n",
       "0          Taviton Street, Bloomsbury  2023-11-01 00:20                1153   \n",
       "1           Irene Road, Parsons Green  2023-11-01 00:06              300058   \n",
       "2             Culvert Road, Battersea  2023-11-01 00:09                1135   \n",
       "3       Westminster Pier, Westminster  2023-11-01 00:03                1219   \n",
       "4          Southampton Street, Strand  2023-11-01 00:17              200195   \n",
       "...                               ...               ...                 ...   \n",
       "383799         Stanhope Gate, Mayfair  2023-10-15 00:04                1230   \n",
       "383800     Baldwin Street, St. Luke's  2023-10-15 00:32              200156   \n",
       "383801  Coomer Place, West Kensington  2023-10-15 00:15              200197   \n",
       "383802     St. Luke's Church, Chelsea  2023-10-15 00:12                1195   \n",
       "383803          Park Lane , Hyde Park  2023-10-15 00:06                1109   \n",
       "\n",
       "                                  End station  Bike number  Bike model  \\\n",
       "index                                                                    \n",
       "0                    Pall Mall East, West End        54429     CLASSIC   \n",
       "1                           The Vale, Chelsea        60442  PBSC_EBIKE   \n",
       "2                   Claverton Street, Pimlico        53480     CLASSIC   \n",
       "3                       Lower Marsh, Waterloo        20962     CLASSIC   \n",
       "4               St Martins Close, Camden Town        57448     CLASSIC   \n",
       "...                                       ...          ...         ...   \n",
       "383799              Millennium Hotel, Mayfair        55433     CLASSIC   \n",
       "383800             Pott Street, Bethnal Green        60528  PBSC_EBIKE   \n",
       "383801  Barons Court Station, West Kensington        54329     CLASSIC   \n",
       "383802           St. George's Square, Pimlico        57259     CLASSIC   \n",
       "383803             Wellington Arch, Hyde Park        20205     CLASSIC   \n",
       "\n",
       "       Total duration  Total duration (ms)  \n",
       "index                                       \n",
       "0             20m 24s              1224353  \n",
       "1              6m 18s               378747  \n",
       "2             10m 20s               620273  \n",
       "3               4m 4s               244652  \n",
       "4             18m 29s              1109695  \n",
       "...               ...                  ...  \n",
       "383799         3m 54s               234020  \n",
       "383800        31m 39s              1899342  \n",
       "383801        14m 13s               853745  \n",
       "383802        11m 58s               718906  \n",
       "383803         5m 27s               327702  \n",
       "\n",
       "[383804 rows x 11 columns]"
      ]
     },
     "execution_count": 77,
     "metadata": {},
     "output_type": "execute_result"
    }
   ],
   "source": [
    "df.drop('Unnamed: 0', axis= 1, inplace=True) # removing duplicate index\n",
    "df.index.name = 'Index'\n",
    "df"
   ]
  },
  {
   "cell_type": "code",
   "execution_count": 78,
   "id": "a85d979e",
   "metadata": {},
   "outputs": [
    {
     "data": {
      "text/plain": [
       "{'ResponseMetadata': {'RequestId': 'VMHXHA9ECQWR58JD',\n",
       "  'HostId': 'v57v6cMTAU96vOsgGGiSujwAWrKZZdP97QVIo8uXkGuyZs4mRNY9+ak74gaB4sDzXU9CJbYzDhM=',\n",
       "  'HTTPStatusCode': 200,\n",
       "  'HTTPHeaders': {'x-amz-id-2': 'v57v6cMTAU96vOsgGGiSujwAWrKZZdP97QVIo8uXkGuyZs4mRNY9+ak74gaB4sDzXU9CJbYzDhM=',\n",
       "   'x-amz-request-id': 'VMHXHA9ECQWR58JD',\n",
       "   'date': 'Sat, 13 Apr 2024 16:44:23 GMT',\n",
       "   'x-amz-server-side-encryption': 'AES256',\n",
       "   'etag': '\"ef598ce6797a6894f801501b743698f7\"',\n",
       "   'server': 'AmazonS3',\n",
       "   'content-length': '0'},\n",
       "  'RetryAttempts': 0},\n",
       " 'ETag': '\"ef598ce6797a6894f801501b743698f7\"',\n",
       " 'ServerSideEncryption': 'AES256'}"
      ]
     },
     "execution_count": 78,
     "metadata": {},
     "output_type": "execute_result"
    }
   ],
   "source": [
    "csv_buffer = StringIO()\n",
    "df.to_csv(csv_buffer)\n",
    "s3.Object(bucket_name, file_name).put(Body=csv_buffer.getvalue())"
   ]
  },
  {
   "cell_type": "markdown",
   "id": "5e1a140f",
   "metadata": {},
   "source": [
    "## Read the data from the Data Lake"
   ]
  },
  {
   "cell_type": "code",
   "execution_count": 80,
   "id": "f1f5df28",
   "metadata": {},
   "outputs": [
    {
     "data": {
      "text/html": [
       "<div>\n",
       "<style scoped>\n",
       "    .dataframe tbody tr th:only-of-type {\n",
       "        vertical-align: middle;\n",
       "    }\n",
       "\n",
       "    .dataframe tbody tr th {\n",
       "        vertical-align: top;\n",
       "    }\n",
       "\n",
       "    .dataframe thead th {\n",
       "        text-align: right;\n",
       "    }\n",
       "</style>\n",
       "<table border=\"1\" class=\"dataframe\">\n",
       "  <thead>\n",
       "    <tr style=\"text-align: right;\">\n",
       "      <th></th>\n",
       "      <th>Number</th>\n",
       "      <th>Start date</th>\n",
       "      <th>Start station number</th>\n",
       "      <th>Start station</th>\n",
       "      <th>End date</th>\n",
       "      <th>End station number</th>\n",
       "      <th>End station</th>\n",
       "      <th>Bike number</th>\n",
       "      <th>Bike model</th>\n",
       "      <th>Total duration</th>\n",
       "      <th>Total duration (ms)</th>\n",
       "    </tr>\n",
       "    <tr>\n",
       "      <th>index</th>\n",
       "      <th></th>\n",
       "      <th></th>\n",
       "      <th></th>\n",
       "      <th></th>\n",
       "      <th></th>\n",
       "      <th></th>\n",
       "      <th></th>\n",
       "      <th></th>\n",
       "      <th></th>\n",
       "      <th></th>\n",
       "      <th></th>\n",
       "    </tr>\n",
       "  </thead>\n",
       "  <tbody>\n",
       "    <tr>\n",
       "      <th>0</th>\n",
       "      <td>135292553</td>\n",
       "      <td>2023-10-31 23:59</td>\n",
       "      <td>1009</td>\n",
       "      <td>Taviton Street, Bloomsbury</td>\n",
       "      <td>2023-11-01 00:20</td>\n",
       "      <td>1153</td>\n",
       "      <td>Pall Mall East, West End</td>\n",
       "      <td>54429</td>\n",
       "      <td>CLASSIC</td>\n",
       "      <td>20m 24s</td>\n",
       "      <td>1224353</td>\n",
       "    </tr>\n",
       "    <tr>\n",
       "      <th>1</th>\n",
       "      <td>135292554</td>\n",
       "      <td>2023-11-01 00:00</td>\n",
       "      <td>300012</td>\n",
       "      <td>Irene Road, Parsons Green</td>\n",
       "      <td>2023-11-01 00:06</td>\n",
       "      <td>300058</td>\n",
       "      <td>The Vale, Chelsea</td>\n",
       "      <td>60442</td>\n",
       "      <td>PBSC_EBIKE</td>\n",
       "      <td>6m 18s</td>\n",
       "      <td>378747</td>\n",
       "    </tr>\n",
       "    <tr>\n",
       "      <th>2</th>\n",
       "      <td>135292549</td>\n",
       "      <td>2023-10-31 23:58</td>\n",
       "      <td>300080</td>\n",
       "      <td>Culvert Road, Battersea</td>\n",
       "      <td>2023-11-01 00:09</td>\n",
       "      <td>1135</td>\n",
       "      <td>Claverton Street, Pimlico</td>\n",
       "      <td>53480</td>\n",
       "      <td>CLASSIC</td>\n",
       "      <td>10m 20s</td>\n",
       "      <td>620273</td>\n",
       "    </tr>\n",
       "    <tr>\n",
       "      <th>3</th>\n",
       "      <td>135292550</td>\n",
       "      <td>2023-10-31 23:58</td>\n",
       "      <td>300249</td>\n",
       "      <td>Westminster Pier, Westminster</td>\n",
       "      <td>2023-11-01 00:03</td>\n",
       "      <td>1219</td>\n",
       "      <td>Lower Marsh, Waterloo</td>\n",
       "      <td>20962</td>\n",
       "      <td>CLASSIC</td>\n",
       "      <td>4m 4s</td>\n",
       "      <td>244652</td>\n",
       "    </tr>\n",
       "    <tr>\n",
       "      <th>4</th>\n",
       "      <td>135292551</td>\n",
       "      <td>2023-10-31 23:59</td>\n",
       "      <td>1228</td>\n",
       "      <td>Southampton Street, Strand</td>\n",
       "      <td>2023-11-01 00:17</td>\n",
       "      <td>200195</td>\n",
       "      <td>St Martins Close, Camden Town</td>\n",
       "      <td>57448</td>\n",
       "      <td>CLASSIC</td>\n",
       "      <td>18m 29s</td>\n",
       "      <td>1109695</td>\n",
       "    </tr>\n",
       "  </tbody>\n",
       "</table>\n",
       "</div>"
      ],
      "text/plain": [
       "          Number        Start date  Start station number  \\\n",
       "index                                                      \n",
       "0      135292553  2023-10-31 23:59                  1009   \n",
       "1      135292554  2023-11-01 00:00                300012   \n",
       "2      135292549  2023-10-31 23:58                300080   \n",
       "3      135292550  2023-10-31 23:58                300249   \n",
       "4      135292551  2023-10-31 23:59                  1228   \n",
       "\n",
       "                       Start station          End date  End station number  \\\n",
       "index                                                                        \n",
       "0         Taviton Street, Bloomsbury  2023-11-01 00:20                1153   \n",
       "1          Irene Road, Parsons Green  2023-11-01 00:06              300058   \n",
       "2            Culvert Road, Battersea  2023-11-01 00:09                1135   \n",
       "3      Westminster Pier, Westminster  2023-11-01 00:03                1219   \n",
       "4         Southampton Street, Strand  2023-11-01 00:17              200195   \n",
       "\n",
       "                         End station  Bike number  Bike model Total duration  \\\n",
       "index                                                                          \n",
       "0           Pall Mall East, West End        54429     CLASSIC        20m 24s   \n",
       "1                  The Vale, Chelsea        60442  PBSC_EBIKE         6m 18s   \n",
       "2          Claverton Street, Pimlico        53480     CLASSIC        10m 20s   \n",
       "3              Lower Marsh, Waterloo        20962     CLASSIC          4m 4s   \n",
       "4      St Martins Close, Camden Town        57448     CLASSIC        18m 29s   \n",
       "\n",
       "       Total duration (ms)  \n",
       "index                       \n",
       "0                  1224353  \n",
       "1                   378747  \n",
       "2                   620273  \n",
       "3                   244652  \n",
       "4                  1109695  "
      ]
     },
     "execution_count": 80,
     "metadata": {},
     "output_type": "execute_result"
    }
   ],
   "source": [
    "response = s3.Object(bucket_name, file_name).get()\n",
    "data = response['Body'].read().decode('utf-8')\n",
    "df = pd.read_csv(StringIO(data))\n",
    "df.set_index('Index', inplace=True)\n",
    "df.head()"
   ]
  },
  {
   "cell_type": "markdown",
   "id": "6e1b8eaf",
   "metadata": {},
   "source": [
    "# Moving the data from the Data Lake to Data Warehouse"
   ]
  },
  {
   "cell_type": "markdown",
   "id": "1f734077",
   "metadata": {},
   "source": [
    "## Creating Data Warehouse"
   ]
  },
  {
   "cell_type": "code",
   "execution_count": 81,
   "id": "7b75691f",
   "metadata": {},
   "outputs": [
    {
     "name": "stdout",
     "output_type": "stream",
     "text": [
      "Cluster created: bycle-london-cluster\n"
     ]
    }
   ],
   "source": [
    "redshift = boto3.client('redshift',  region_name=region_name)\n",
    "response = redshift.create_cluster(**cluster_params)\n",
    "print(\"Cluster created:\", response['Cluster']['ClusterIdentifier'])"
   ]
  },
  {
   "cell_type": "code",
   "execution_count": 5,
   "id": "3463c10c",
   "metadata": {},
   "outputs": [],
   "source": [
    "cluster_id = response['Cluster']['ClusterIdentifier']\n",
    "create_waiter = redshift.get_waiter(\"cluster_available\")\n",
    "create_waiter.wait(\n",
    "        ClusterIdentifier = cluster_id,\n",
    "        WaiterConfig = {\n",
    "            \"Delay\": 30,\n",
    "            \"MaxAttempts\": 20\n",
    "        }\n",
    "    ) # Wait for Creating of cluster\n",
    "\n",
    "cluster_details = redshift.describe_clusters(ClusterIdentifier=cluster_id)"
   ]
  },
  {
   "cell_type": "code",
   "execution_count": 6,
   "id": "f4225ba2",
   "metadata": {},
   "outputs": [
    {
     "name": "stdout",
     "output_type": "stream",
     "text": [
      "\n",
      "Connection Settings:\n",
      "Host: bycle-london-cluster.c16o5fuq8xj9.us-east-1.redshift.amazonaws.com\n",
      "Port: 5439\n",
      "Database: dev\n"
     ]
    }
   ],
   "source": [
    "endpoint = cluster_details['Clusters'][0]['Endpoint']\n",
    "port = endpoint['Port']\n",
    "host = endpoint['Address']\n",
    "username = cluster_params['MasterUsername']\n",
    "password = cluster_params['MasterUserPassword']\n",
    "database = cluster_params['DBName']\n",
    "\n",
    "## Put this information into the DBT\n",
    "print(\"\\nConnection Settings:\")\n",
    "print(\"Host:\", host)\n",
    "print(\"Port:\", port)\n",
    "print(\"Database:\", database)\n",
    "#print(\"Username:\", username)\n",
    "#print(\"Password:\", password)"
   ]
  },
  {
   "cell_type": "code",
   "execution_count": 103,
   "id": "65b0fa4b",
   "metadata": {},
   "outputs": [
    {
     "name": "stdout",
     "output_type": "stream",
     "text": [
      "Inbound traffic on port 5439 is now allowed from any IP address.\n"
     ]
    }
   ],
   "source": [
    "# Permit inbound traffic to the dataset\n",
    "security_group_id = cluster_details['Clusters'][0]['VpcSecurityGroups'][0]['VpcSecurityGroupId']\n",
    "try:\n",
    "    ec2 = boto3.client('ec2', region_name=region_name)\n",
    "    ec2.authorize_security_group_ingress(\n",
    "        GroupId=security_group_id,\n",
    "        IpProtocol='TCP',\n",
    "        FromPort=5439,\n",
    "        ToPort=5439,\n",
    "        CidrIp='0.0.0.0/0'\n",
    "    )\n",
    "    print(\"Inbound traffic on port 5439 is now allowed from any IP address.\")\n",
    "except Exception as e:\n",
    "    print(\"An error occurred while authorizing ingress:\", e)"
   ]
  },
  {
   "cell_type": "code",
   "execution_count": 97,
   "id": "9726e512",
   "metadata": {},
   "outputs": [
    {
     "name": "stdout",
     "output_type": "stream",
     "text": [
      "Connected to Redshift!\n"
     ]
    }
   ],
   "source": [
    "try:\n",
    "    conn = psycopg2.connect(\n",
    "        host=host, \n",
    "        port=port, \n",
    "        database=database, \n",
    "        user = username, \n",
    "        password = password\n",
    "    )\n",
    "    print(\"Connected to Redshift!\")\n",
    "except Exception as e:\n",
    "    print(\"Unable to connect to Redshift:\", e)"
   ]
  },
  {
   "cell_type": "markdown",
   "id": "d67df747",
   "metadata": {},
   "source": [
    "## Moving the data"
   ]
  },
  {
   "cell_type": "code",
   "execution_count": 100,
   "id": "920e9827",
   "metadata": {},
   "outputs": [],
   "source": [
    "## Deprecated mode to pass the data. It takes arounds 19 hours to complete\n",
    "if False:\n",
    "    tqdm.pandas()\n",
    "\n",
    "    cur = conn.cursor()\n",
    "\n",
    "    create_table_query = \"\"\"\n",
    "    CREATE TABLE IF NOT EXISTS bike_rental_data (\n",
    "        \"Index\" INT,\n",
    "        \"Number\" INT,\n",
    "        \"Start_date\" TIMESTAMP,\n",
    "        \"Start_station_number\" INT,\n",
    "        \"Start_station\" VARCHAR(255),\n",
    "        \"End_date\" TIMESTAMP,\n",
    "        \"End_station_number\" INT,\n",
    "        \"End_station\" VARCHAR(255),\n",
    "        \"Bike_number\" INT,\n",
    "        \"Bike_model\" VARCHAR(255),\n",
    "        \"Total_duration\" VARCHAR(255),\n",
    "        \"Total_duration_ms\" INT\n",
    "    );\n",
    "    \"\"\"\n",
    "\n",
    "    cur.execute(create_table_query)\n",
    "\n",
    "    def insert_row(cur, row):\n",
    "        insert_query = \"\"\"\n",
    "        INSERT INTO bike_rental_data (\"index\", \"Number\", \"Start_date\", \"Start_station_number\", \n",
    "        \"Start_station\", \"End_date\", \"End_station_number\", \"End_station\", \"Bike_number\", \n",
    "        \"Bike_model\", \"Total_duration\", \"Total_duration_ms\") \n",
    "        VALUES (%s, %s, %s, %s, %s, %s, %s, %s, %s, %s, %s, %s);\n",
    "        \"\"\"\n",
    "        cur.execute(insert_query, (row.name, row['Number'], row['Start date'], \n",
    "                                row['Start station number'], row['Start station'], \n",
    "                                row['End date'], row['End station number'], \n",
    "                                row['End station'], row['Bike number'], \n",
    "                                row['Bike model'], row['Total duration'], \n",
    "                                row['Total duration (ms)']))\n",
    "\n",
    "    df.progress_apply(lambda row: insert_row(cur, row), axis=1)\n",
    "\n",
    "    conn.commit()\n",
    "    cur.close()\n",
    "    conn.close()"
   ]
  },
  {
   "cell_type": "code",
   "execution_count": 37,
   "id": "04308573",
   "metadata": {},
   "outputs": [
    {
     "name": "stdout",
     "output_type": "stream",
     "text": [
      "<botocore.credentials.Credentials object at 0x0000021D5AF86950>\n"
     ]
    }
   ],
   "source": [
    "import boto3\n",
    "session = boto3.Session()\n",
    "credentials = session.get_credentials()"
   ]
  },
  {
   "cell_type": "code",
   "execution_count": null,
   "id": "d177b17e",
   "metadata": {},
   "outputs": [],
   "source": [
    "cur = conn.cursor()\n",
    "\n",
    "sql_query = f\"\"\"DROP TABLE IF EXISTS {table_name} CASCADE\"\"\"\n",
    "cur.execute(sql_query)\n",
    "conn.commit()\n",
    "\n",
    "create_table_query = f\"\"\"\n",
    "CREATE TABLE IF NOT EXISTS {table_name} (\n",
    "    \"index\" INT,\n",
    "    \"Number\" INT,\n",
    "    \"Start_date\" TIMESTAMP,\n",
    "    \"Start_station_number\" INT,\n",
    "    \"Start_station\" VARCHAR(255),\n",
    "    \"End_date\" TIMESTAMP,\n",
    "    \"End_station_number\" INT,\n",
    "    \"End_station\" VARCHAR(255),\n",
    "    \"Bike_number\" INT,\n",
    "    \"Bike_model\" VARCHAR(255),\n",
    "    \"Total_duration\" VARCHAR(255),\n",
    "    \"Total_duration_ms\" INT\n",
    ");\n",
    "\"\"\"\n",
    "cur.execute(create_table_query)\n",
    "conn.commit()\n",
    "\n",
    "file_path = f\"s3://{bucket_name}/{file_name}\"\n",
    "\n",
    "# Copy data\n",
    "copy_query = f\"\"\"\n",
    "COPY {table_name}\n",
    "FROM '{file_path}'\n",
    "CREDENTIALS 'aws_access_key_id={credentials.access_key};aws_secret_access_key={credentials.secret_key}'\n",
    "REGION 'us-west-2'\n",
    "IGNOREHEADER 1\n",
    "CSV;\n",
    "\"\"\"\n",
    "\n",
    "cur.execute(copy_query)\n",
    "conn.commit()\n",
    "conn.close()"
   ]
  },
  {
   "cell_type": "markdown",
   "id": "50844f86",
   "metadata": {},
   "source": [
    "## Data Analytics"
   ]
  },
  {
   "cell_type": "code",
   "execution_count": 130,
   "id": "8905551a",
   "metadata": {},
   "outputs": [
    {
     "data": {
      "text/plain": [
       "Index(['Unnamed: 0', 'Number', 'Start date', 'Start station number',\n",
       "       'Start station', 'End date', 'End station number', 'End station',\n",
       "       'Bike number', 'Bike model', 'Total duration', 'Total duration (ms)'],\n",
       "      dtype='object')"
      ]
     },
     "execution_count": 130,
     "metadata": {},
     "output_type": "execute_result"
    }
   ],
   "source": [
    "df.columns"
   ]
  },
  {
   "cell_type": "code",
   "execution_count": 137,
   "id": "067f9ac4",
   "metadata": {},
   "outputs": [
    {
     "data": {
      "text/plain": [
       "798"
      ]
     },
     "execution_count": 137,
     "metadata": {},
     "output_type": "execute_result"
    }
   ],
   "source": [
    "len(pd.unique(df['Start station number']))"
   ]
  },
  {
   "cell_type": "code",
   "execution_count": 138,
   "id": "4eebd91f",
   "metadata": {},
   "outputs": [
    {
     "data": {
      "text/plain": [
       "800"
      ]
     },
     "execution_count": 138,
     "metadata": {},
     "output_type": "execute_result"
    }
   ],
   "source": [
    "len(pd.unique(df['End station number']))"
   ]
  },
  {
   "cell_type": "code",
   "execution_count": 136,
   "id": "e84e910e",
   "metadata": {},
   "outputs": [
    {
     "data": {
      "text/plain": [
       "11787"
      ]
     },
     "execution_count": 136,
     "metadata": {},
     "output_type": "execute_result"
    }
   ],
   "source": [
    "len(pd.unique(df['Bike number']))"
   ]
  },
  {
   "cell_type": "code",
   "execution_count": 142,
   "id": "a8253f7d",
   "metadata": {},
   "outputs": [
    {
     "name": "stdout",
     "output_type": "stream",
     "text": [
      "Average total duration: 20.75 minutes\n"
     ]
    }
   ],
   "source": [
    "print(f'Average total duration: {(df[\"Total duration (ms)\"].mean() / 60000):.2f} minutes') "
   ]
  },
  {
   "cell_type": "code",
   "execution_count": 145,
   "id": "6935ae30",
   "metadata": {},
   "outputs": [
    {
     "name": "stdout",
     "output_type": "stream",
     "text": [
      "Maximum total duration: 13.24 days\n"
     ]
    }
   ],
   "source": [
    "print(f'Maximum total duration: {(df[\"Total duration (ms)\"].max() / (60000* 60 * 24)):.2f} days') "
   ]
  },
  {
   "cell_type": "code",
   "execution_count": 153,
   "id": "d96e078f",
   "metadata": {},
   "outputs": [
    {
     "data": {
      "text/plain": [
       "124"
      ]
     },
     "execution_count": 153,
     "metadata": {},
     "output_type": "execute_result"
    }
   ],
   "source": [
    "len(pd.unique(df['Start station'].apply(lambda x : x.split(',')[1].strip())))"
   ]
  },
  {
   "cell_type": "code",
   "execution_count": 160,
   "id": "c50ff33a",
   "metadata": {},
   "outputs": [
    {
     "data": {
      "text/plain": [
       "125"
      ]
     },
     "execution_count": 160,
     "metadata": {},
     "output_type": "execute_result"
    }
   ],
   "source": [
    "len(pd.unique(df['End station'].apply(lambda x :x.split(',')[1].strip()  if len(x.split(',')) > 1 else None)))"
   ]
  },
  {
   "cell_type": "code",
   "execution_count": 166,
   "id": "0c416a22",
   "metadata": {},
   "outputs": [
    {
     "data": {
      "text/plain": [
       "array(['2023-10-31', '2023-11-01', '2023-10-30', '2023-10-29',\n",
       "       '2023-10-28', '2023-10-27', '2023-10-26', '2023-10-25',\n",
       "       '2023-10-24', '2023-10-23', '2023-10-22', '2023-10-21',\n",
       "       '2023-10-20', '2023-10-19', '2023-10-18', '2023-10-17',\n",
       "       '2023-10-16', '2023-10-15'], dtype=object)"
      ]
     },
     "execution_count": 166,
     "metadata": {},
     "output_type": "execute_result"
    }
   ],
   "source": [
    "pd.unique(df['Start date'].apply(lambda x: x.split(' ')[0]))"
   ]
  },
  {
   "cell_type": "code",
   "execution_count": 167,
   "id": "f66478d0",
   "metadata": {},
   "outputs": [
    {
     "data": {
      "text/plain": [
       "array(['2023-11-01', '2023-10-31', '2023-11-05', '2023-11-02',\n",
       "       '2023-11-03', '2023-11-07', '2023-10-30', '2023-11-06',\n",
       "       '2023-11-04', '2023-10-29', '2023-11-10', '2023-11-08',\n",
       "       '2023-10-28', '2023-10-27', '2023-10-26', '2023-10-25',\n",
       "       '2023-10-24', '2023-10-23', '2023-10-22', '2023-10-21',\n",
       "       '2023-10-20', '2023-10-19', '2023-10-18', '2023-10-17',\n",
       "       '2023-10-16', '2023-10-15'], dtype=object)"
      ]
     },
     "execution_count": 167,
     "metadata": {},
     "output_type": "execute_result"
    }
   ],
   "source": [
    "pd.unique(df['End date'].apply(lambda x: x.split(' ')[0]))"
   ]
  },
  {
   "cell_type": "markdown",
   "id": "a8f3377d",
   "metadata": {},
   "source": [
    "## Deleting Everything from the cloud\n",
    "After you make your analysis, it's better to remove everything from the cloud"
   ]
  },
  {
   "cell_type": "code",
   "execution_count": 9,
   "id": "4cda3365",
   "metadata": {},
   "outputs": [],
   "source": [
    "is_analysis_done = False"
   ]
  },
  {
   "cell_type": "code",
   "execution_count": 27,
   "id": "0bd858fd",
   "metadata": {},
   "outputs": [
    {
     "data": {
      "text/plain": [
       "{'Cluster': {'ClusterIdentifier': 'bycle-london-cluster',\n",
       "  'NodeType': 'dc2.large',\n",
       "  'ClusterStatus': 'deleting',\n",
       "  'ClusterAvailabilityStatus': 'Modifying',\n",
       "  'MasterUsername': 'admin',\n",
       "  'DBName': 'dev',\n",
       "  'Endpoint': {'Address': 'bycle-london-cluster.c16o5fuq8xj9.us-east-1.redshift.amazonaws.com',\n",
       "   'Port': 5439},\n",
       "  'ClusterCreateTime': datetime.datetime(2024, 4, 12, 14, 40, 25, 213000, tzinfo=tzutc()),\n",
       "  'AutomatedSnapshotRetentionPeriod': 1,\n",
       "  'ManualSnapshotRetentionPeriod': -1,\n",
       "  'ClusterSecurityGroups': [],\n",
       "  'VpcSecurityGroups': [{'VpcSecurityGroupId': 'sg-05c55aa288a5c1347',\n",
       "    'Status': 'active'}],\n",
       "  'ClusterParameterGroups': [{'ParameterGroupName': 'default.redshift-1.0',\n",
       "    'ParameterApplyStatus': 'in-sync'}],\n",
       "  'ClusterSubnetGroupName': 'default',\n",
       "  'VpcId': 'vpc-0b4150ff1a56ff2c0',\n",
       "  'AvailabilityZone': 'us-east-1c',\n",
       "  'PreferredMaintenanceWindow': 'wed:04:30-wed:05:00',\n",
       "  'PendingModifiedValues': {},\n",
       "  'ClusterVersion': '1.0',\n",
       "  'AllowVersionUpgrade': True,\n",
       "  'NumberOfNodes': 1,\n",
       "  'PubliclyAccessible': True,\n",
       "  'Encrypted': False,\n",
       "  'Tags': [],\n",
       "  'EnhancedVpcRouting': False,\n",
       "  'IamRoles': [],\n",
       "  'MaintenanceTrackName': 'current',\n",
       "  'DeferredMaintenanceWindows': [],\n",
       "  'NextMaintenanceWindowStartTime': datetime.datetime(2024, 4, 17, 4, 30, tzinfo=tzutc()),\n",
       "  'ClusterNamespaceArn': 'arn:aws:redshift:us-east-1:670961575595:namespace:9e7da849-1fd5-4a3e-a2fc-e053ed383a21',\n",
       "  'TotalStorageCapacityInMegaBytes': 400000,\n",
       "  'AquaConfiguration': {'AquaStatus': 'disabled',\n",
       "   'AquaConfigurationStatus': 'auto'},\n",
       "  'MultiAZ': 'Disabled'},\n",
       " 'ResponseMetadata': {'RequestId': '630f87c4-af9b-44a1-a9ef-3eba9ea89868',\n",
       "  'HTTPStatusCode': 200,\n",
       "  'HTTPHeaders': {'x-amzn-requestid': '630f87c4-af9b-44a1-a9ef-3eba9ea89868',\n",
       "   'content-type': 'text/xml',\n",
       "   'content-length': '2712',\n",
       "   'date': 'Mon, 15 Apr 2024 09:52:15 GMT'},\n",
       "  'RetryAttempts': 0}}"
      ]
     },
     "execution_count": 27,
     "metadata": {},
     "output_type": "execute_result"
    }
   ],
   "source": [
    "if is_analysis_done:\n",
    "    delete_bucket(bucket_name, file_name)\n",
    "    redshift.delete_cluster(ClusterIdentifier = cluster_id, SkipFinalClusterSnapshot  = True)"
   ]
  }
 ],
 "metadata": {
  "kernelspec": {
   "display_name": "Python 3 (ipykernel)",
   "language": "python",
   "name": "python3"
  },
  "language_info": {
   "codemirror_mode": {
    "name": "ipython",
    "version": 3
   },
   "file_extension": ".py",
   "mimetype": "text/x-python",
   "name": "python",
   "nbconvert_exporter": "python",
   "pygments_lexer": "ipython3",
   "version": "3.11.9"
  }
 },
 "nbformat": 4,
 "nbformat_minor": 5
}
