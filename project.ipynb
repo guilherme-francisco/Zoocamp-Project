{
 "cells": [
  {
   "cell_type": "markdown",
   "id": "49ee81ba",
   "metadata": {},
   "source": [
    "## Import Packages and Libraries"
   ]
  },
  {
   "cell_type": "code",
   "execution_count": 107,
   "id": "0f89a76a-76ae-49eb-a185-360699f357c0",
   "metadata": {},
   "outputs": [],
   "source": [
    "import pandas as pd\n",
    "import boto3\n",
    "from io import StringIO \n",
    "import psycopg2\n",
    "import time\n",
    "from dotenv import load_dotenv \n",
    "import os"
   ]
  },
  {
   "cell_type": "markdown",
   "id": "4c7bbd86",
   "metadata": {},
   "source": [
    "# Getting the Data\n",
    "\n",
    "- Getting data from: [Cycling Data](https://cycling.data.tfl.gov.uk/)"
   ]
  },
  {
   "cell_type": "code",
   "execution_count": 5,
   "id": "eba2c1d6-fd69-40e5-b63a-092ac77dca6b",
   "metadata": {},
   "outputs": [
    {
     "data": {
      "text/html": [
       "<div>\n",
       "<style scoped>\n",
       "    .dataframe tbody tr th:only-of-type {\n",
       "        vertical-align: middle;\n",
       "    }\n",
       "\n",
       "    .dataframe tbody tr th {\n",
       "        vertical-align: top;\n",
       "    }\n",
       "\n",
       "    .dataframe thead th {\n",
       "        text-align: right;\n",
       "    }\n",
       "</style>\n",
       "<table border=\"1\" class=\"dataframe\">\n",
       "  <thead>\n",
       "    <tr style=\"text-align: right;\">\n",
       "      <th></th>\n",
       "      <th>Number</th>\n",
       "      <th>Start date</th>\n",
       "      <th>Start station number</th>\n",
       "      <th>Start station</th>\n",
       "      <th>End date</th>\n",
       "      <th>End station number</th>\n",
       "      <th>End station</th>\n",
       "      <th>Bike number</th>\n",
       "      <th>Bike model</th>\n",
       "      <th>Total duration</th>\n",
       "      <th>Total duration (ms)</th>\n",
       "    </tr>\n",
       "  </thead>\n",
       "  <tbody>\n",
       "    <tr>\n",
       "      <th>0</th>\n",
       "      <td>135292553</td>\n",
       "      <td>2023-10-31 23:59</td>\n",
       "      <td>1009</td>\n",
       "      <td>Taviton Street, Bloomsbury</td>\n",
       "      <td>2023-11-01 00:20</td>\n",
       "      <td>1153</td>\n",
       "      <td>Pall Mall East, West End</td>\n",
       "      <td>54429</td>\n",
       "      <td>CLASSIC</td>\n",
       "      <td>20m 24s</td>\n",
       "      <td>1224353</td>\n",
       "    </tr>\n",
       "    <tr>\n",
       "      <th>1</th>\n",
       "      <td>135292554</td>\n",
       "      <td>2023-11-01 00:00</td>\n",
       "      <td>300012</td>\n",
       "      <td>Irene Road, Parsons Green</td>\n",
       "      <td>2023-11-01 00:06</td>\n",
       "      <td>300058</td>\n",
       "      <td>The Vale, Chelsea</td>\n",
       "      <td>60442</td>\n",
       "      <td>PBSC_EBIKE</td>\n",
       "      <td>6m 18s</td>\n",
       "      <td>378747</td>\n",
       "    </tr>\n",
       "    <tr>\n",
       "      <th>2</th>\n",
       "      <td>135292549</td>\n",
       "      <td>2023-10-31 23:58</td>\n",
       "      <td>300080</td>\n",
       "      <td>Culvert Road, Battersea</td>\n",
       "      <td>2023-11-01 00:09</td>\n",
       "      <td>1135</td>\n",
       "      <td>Claverton Street, Pimlico</td>\n",
       "      <td>53480</td>\n",
       "      <td>CLASSIC</td>\n",
       "      <td>10m 20s</td>\n",
       "      <td>620273</td>\n",
       "    </tr>\n",
       "    <tr>\n",
       "      <th>3</th>\n",
       "      <td>135292550</td>\n",
       "      <td>2023-10-31 23:58</td>\n",
       "      <td>300249</td>\n",
       "      <td>Westminster Pier, Westminster</td>\n",
       "      <td>2023-11-01 00:03</td>\n",
       "      <td>1219</td>\n",
       "      <td>Lower Marsh, Waterloo</td>\n",
       "      <td>20962</td>\n",
       "      <td>CLASSIC</td>\n",
       "      <td>4m 4s</td>\n",
       "      <td>244652</td>\n",
       "    </tr>\n",
       "    <tr>\n",
       "      <th>4</th>\n",
       "      <td>135292551</td>\n",
       "      <td>2023-10-31 23:59</td>\n",
       "      <td>1228</td>\n",
       "      <td>Southampton Street, Strand</td>\n",
       "      <td>2023-11-01 00:17</td>\n",
       "      <td>200195</td>\n",
       "      <td>St Martins Close, Camden Town</td>\n",
       "      <td>57448</td>\n",
       "      <td>CLASSIC</td>\n",
       "      <td>18m 29s</td>\n",
       "      <td>1109695</td>\n",
       "    </tr>\n",
       "  </tbody>\n",
       "</table>\n",
       "</div>"
      ],
      "text/plain": [
       "      Number        Start date  Start station number  \\\n",
       "0  135292553  2023-10-31 23:59                  1009   \n",
       "1  135292554  2023-11-01 00:00                300012   \n",
       "2  135292549  2023-10-31 23:58                300080   \n",
       "3  135292550  2023-10-31 23:58                300249   \n",
       "4  135292551  2023-10-31 23:59                  1228   \n",
       "\n",
       "                   Start station          End date  End station number  \\\n",
       "0     Taviton Street, Bloomsbury  2023-11-01 00:20                1153   \n",
       "1      Irene Road, Parsons Green  2023-11-01 00:06              300058   \n",
       "2        Culvert Road, Battersea  2023-11-01 00:09                1135   \n",
       "3  Westminster Pier, Westminster  2023-11-01 00:03                1219   \n",
       "4     Southampton Street, Strand  2023-11-01 00:17              200195   \n",
       "\n",
       "                     End station  Bike number  Bike model Total duration  \\\n",
       "0       Pall Mall East, West End        54429     CLASSIC        20m 24s   \n",
       "1              The Vale, Chelsea        60442  PBSC_EBIKE         6m 18s   \n",
       "2      Claverton Street, Pimlico        53480     CLASSIC        10m 20s   \n",
       "3          Lower Marsh, Waterloo        20962     CLASSIC          4m 4s   \n",
       "4  St Martins Close, Camden Town        57448     CLASSIC        18m 29s   \n",
       "\n",
       "   Total duration (ms)  \n",
       "0              1224353  \n",
       "1               378747  \n",
       "2               620273  \n",
       "3               244652  \n",
       "4              1109695  "
      ]
     },
     "execution_count": 5,
     "metadata": {},
     "output_type": "execute_result"
    }
   ],
   "source": [
    "url = 'https://cycling.data.tfl.gov.uk/usage-stats/384JourneyDataExtract15Nov2023-30Nov2023.csv'\n",
    "df = pd.read_csv(url)\n",
    "df.head()"
   ]
  },
  {
   "cell_type": "markdown",
   "id": "598f6ae5",
   "metadata": {},
   "source": [
    "# Define functions and constants"
   ]
  },
  {
   "cell_type": "markdown",
   "id": "f0f4b0ac",
   "metadata": {},
   "source": [
    "## constants"
   ]
  },
  {
   "cell_type": "code",
   "execution_count": 109,
   "id": "80e381b9-cb0d-4319-9950-364445fd3394",
   "metadata": {},
   "outputs": [],
   "source": [
    "load_dotenv()\n",
    "\n",
    "s3 = boto3.resource('s3')\n",
    "bucket_name = 'bycle-rental-london'\n",
    "file_name = 'data.csv'\n",
    "region_name = 'us-east-1'\n",
    "cluster_params = {\n",
    "    'ClusterIdentifier': 'bycle-london-cluster',\n",
    "    'NodeType': 'dc2.large',\n",
    "    'MasterUsername': os.environ['MASTER_USER_NAME'],\n",
    "    'MasterUserPassword': os.environ['MasterUserPassword'],\n",
    "    'DBName': os.environ['DB_NAME'],\n",
    "    'ClusterType': 'single-node',\n",
    "    'PubliclyAccessible': True,    \n",
    "}\n"
   ]
  },
  {
   "cell_type": "markdown",
   "id": "334dbcb4",
   "metadata": {},
   "source": [
    "## Functions"
   ]
  },
  {
   "cell_type": "code",
   "execution_count": 9,
   "id": "92cfedc5",
   "metadata": {},
   "outputs": [],
   "source": [
    "def create_bucket(bucket_name):\n",
    "    response = s3.create_bucket(\n",
    "        Bucket=bucket_name,\n",
    "        CreateBucketConfiguration={\n",
    "            'LocationConstraint': 'us-west-2'  # Change to your desired region\n",
    "        }\n",
    "    )\n",
    "    print(\"Bucket created:\", bucket_name)\n",
    "    return response"
   ]
  },
  {
   "cell_type": "code",
   "execution_count": 10,
   "id": "20f6bbfc",
   "metadata": {},
   "outputs": [],
   "source": [
    "def delete_bucket(bucket_name : str):\n",
    "    response = s3.delete_bucket(\n",
    "        Bucket=bucket_name\n",
    "    )\n",
    "    print(\"Bucket deleted:\", bucket_name)\n",
    "    return response"
   ]
  },
  {
   "cell_type": "markdown",
   "id": "f3f300be",
   "metadata": {},
   "source": [
    "# Put dataframe inside data lake (S3 Bucket)"
   ]
  },
  {
   "cell_type": "markdown",
   "id": "5d369153",
   "metadata": {},
   "source": [
    "## Creating bucket"
   ]
  },
  {
   "cell_type": "code",
   "execution_count": 16,
   "id": "8ef865c2",
   "metadata": {},
   "outputs": [
    {
     "name": "stdout",
     "output_type": "stream",
     "text": [
      "Bucket created: bycle-rental-london\n"
     ]
    },
    {
     "data": {
      "text/plain": [
       "s3.Bucket(name='bycle-rental-london')"
      ]
     },
     "execution_count": 16,
     "metadata": {},
     "output_type": "execute_result"
    }
   ],
   "source": [
    "create_bucket(bucket_name=bucket_name)"
   ]
  },
  {
   "cell_type": "code",
   "execution_count": 17,
   "id": "f7887a17",
   "metadata": {},
   "outputs": [
    {
     "name": "stdout",
     "output_type": "stream",
     "text": [
      "bycle-rental-london\n"
     ]
    }
   ],
   "source": [
    "# Check if it was created\n",
    "for bucket in s3.buckets.all():\n",
    "    print(bucket.name)"
   ]
  },
  {
   "cell_type": "markdown",
   "id": "75fe3258",
   "metadata": {},
   "source": [
    "## Put the data"
   ]
  },
  {
   "cell_type": "code",
   "execution_count": 20,
   "id": "a85d979e",
   "metadata": {},
   "outputs": [
    {
     "data": {
      "text/plain": [
       "{'ResponseMetadata': {'RequestId': '5FRH8HE3NE8DAP72',\n",
       "  'HostId': 'GyHT7pGVS9CGbfrfy2Gm3b7fH3YjS/bwpbAnfW0alBe3zBt0E6dkJSm/693QjcYGNGYLGdHu7MG81Yiude7JbQ==',\n",
       "  'HTTPStatusCode': 200,\n",
       "  'HTTPHeaders': {'x-amz-id-2': 'GyHT7pGVS9CGbfrfy2Gm3b7fH3YjS/bwpbAnfW0alBe3zBt0E6dkJSm/693QjcYGNGYLGdHu7MG81Yiude7JbQ==',\n",
       "   'x-amz-request-id': '5FRH8HE3NE8DAP72',\n",
       "   'date': 'Fri, 12 Apr 2024 10:21:04 GMT',\n",
       "   'x-amz-server-side-encryption': 'AES256',\n",
       "   'etag': '\"5257c98f906ce9f199c4c7706c29c15b\"',\n",
       "   'server': 'AmazonS3',\n",
       "   'content-length': '0',\n",
       "   'connection': 'close'},\n",
       "  'RetryAttempts': 1},\n",
       " 'ETag': '\"5257c98f906ce9f199c4c7706c29c15b\"',\n",
       " 'ServerSideEncryption': 'AES256'}"
      ]
     },
     "execution_count": 20,
     "metadata": {},
     "output_type": "execute_result"
    }
   ],
   "source": [
    "csv_buffer = StringIO()\n",
    "df.to_csv(csv_buffer)\n",
    "s3.Object(bucket_name, file_name).put(Body=csv_buffer.getvalue())"
   ]
  },
  {
   "cell_type": "markdown",
   "id": "5e1a140f",
   "metadata": {},
   "source": [
    "## Read the data from the Data Lake"
   ]
  },
  {
   "cell_type": "code",
   "execution_count": 25,
   "id": "f1f5df28",
   "metadata": {},
   "outputs": [
    {
     "data": {
      "text/html": [
       "<div>\n",
       "<style scoped>\n",
       "    .dataframe tbody tr th:only-of-type {\n",
       "        vertical-align: middle;\n",
       "    }\n",
       "\n",
       "    .dataframe tbody tr th {\n",
       "        vertical-align: top;\n",
       "    }\n",
       "\n",
       "    .dataframe thead th {\n",
       "        text-align: right;\n",
       "    }\n",
       "</style>\n",
       "<table border=\"1\" class=\"dataframe\">\n",
       "  <thead>\n",
       "    <tr style=\"text-align: right;\">\n",
       "      <th></th>\n",
       "      <th>Unnamed: 0</th>\n",
       "      <th>Number</th>\n",
       "      <th>Start date</th>\n",
       "      <th>Start station number</th>\n",
       "      <th>Start station</th>\n",
       "      <th>End date</th>\n",
       "      <th>End station number</th>\n",
       "      <th>End station</th>\n",
       "      <th>Bike number</th>\n",
       "      <th>Bike model</th>\n",
       "      <th>Total duration</th>\n",
       "      <th>Total duration (ms)</th>\n",
       "    </tr>\n",
       "  </thead>\n",
       "  <tbody>\n",
       "    <tr>\n",
       "      <th>0</th>\n",
       "      <td>0</td>\n",
       "      <td>135292553</td>\n",
       "      <td>2023-10-31 23:59</td>\n",
       "      <td>1009</td>\n",
       "      <td>Taviton Street, Bloomsbury</td>\n",
       "      <td>2023-11-01 00:20</td>\n",
       "      <td>1153</td>\n",
       "      <td>Pall Mall East, West End</td>\n",
       "      <td>54429</td>\n",
       "      <td>CLASSIC</td>\n",
       "      <td>20m 24s</td>\n",
       "      <td>1224353</td>\n",
       "    </tr>\n",
       "    <tr>\n",
       "      <th>1</th>\n",
       "      <td>1</td>\n",
       "      <td>135292554</td>\n",
       "      <td>2023-11-01 00:00</td>\n",
       "      <td>300012</td>\n",
       "      <td>Irene Road, Parsons Green</td>\n",
       "      <td>2023-11-01 00:06</td>\n",
       "      <td>300058</td>\n",
       "      <td>The Vale, Chelsea</td>\n",
       "      <td>60442</td>\n",
       "      <td>PBSC_EBIKE</td>\n",
       "      <td>6m 18s</td>\n",
       "      <td>378747</td>\n",
       "    </tr>\n",
       "    <tr>\n",
       "      <th>2</th>\n",
       "      <td>2</td>\n",
       "      <td>135292549</td>\n",
       "      <td>2023-10-31 23:58</td>\n",
       "      <td>300080</td>\n",
       "      <td>Culvert Road, Battersea</td>\n",
       "      <td>2023-11-01 00:09</td>\n",
       "      <td>1135</td>\n",
       "      <td>Claverton Street, Pimlico</td>\n",
       "      <td>53480</td>\n",
       "      <td>CLASSIC</td>\n",
       "      <td>10m 20s</td>\n",
       "      <td>620273</td>\n",
       "    </tr>\n",
       "    <tr>\n",
       "      <th>3</th>\n",
       "      <td>3</td>\n",
       "      <td>135292550</td>\n",
       "      <td>2023-10-31 23:58</td>\n",
       "      <td>300249</td>\n",
       "      <td>Westminster Pier, Westminster</td>\n",
       "      <td>2023-11-01 00:03</td>\n",
       "      <td>1219</td>\n",
       "      <td>Lower Marsh, Waterloo</td>\n",
       "      <td>20962</td>\n",
       "      <td>CLASSIC</td>\n",
       "      <td>4m 4s</td>\n",
       "      <td>244652</td>\n",
       "    </tr>\n",
       "    <tr>\n",
       "      <th>4</th>\n",
       "      <td>4</td>\n",
       "      <td>135292551</td>\n",
       "      <td>2023-10-31 23:59</td>\n",
       "      <td>1228</td>\n",
       "      <td>Southampton Street, Strand</td>\n",
       "      <td>2023-11-01 00:17</td>\n",
       "      <td>200195</td>\n",
       "      <td>St Martins Close, Camden Town</td>\n",
       "      <td>57448</td>\n",
       "      <td>CLASSIC</td>\n",
       "      <td>18m 29s</td>\n",
       "      <td>1109695</td>\n",
       "    </tr>\n",
       "  </tbody>\n",
       "</table>\n",
       "</div>"
      ],
      "text/plain": [
       "   Unnamed: 0     Number        Start date  Start station number  \\\n",
       "0           0  135292553  2023-10-31 23:59                  1009   \n",
       "1           1  135292554  2023-11-01 00:00                300012   \n",
       "2           2  135292549  2023-10-31 23:58                300080   \n",
       "3           3  135292550  2023-10-31 23:58                300249   \n",
       "4           4  135292551  2023-10-31 23:59                  1228   \n",
       "\n",
       "                   Start station          End date  End station number  \\\n",
       "0     Taviton Street, Bloomsbury  2023-11-01 00:20                1153   \n",
       "1      Irene Road, Parsons Green  2023-11-01 00:06              300058   \n",
       "2        Culvert Road, Battersea  2023-11-01 00:09                1135   \n",
       "3  Westminster Pier, Westminster  2023-11-01 00:03                1219   \n",
       "4     Southampton Street, Strand  2023-11-01 00:17              200195   \n",
       "\n",
       "                     End station  Bike number  Bike model Total duration  \\\n",
       "0       Pall Mall East, West End        54429     CLASSIC        20m 24s   \n",
       "1              The Vale, Chelsea        60442  PBSC_EBIKE         6m 18s   \n",
       "2      Claverton Street, Pimlico        53480     CLASSIC        10m 20s   \n",
       "3          Lower Marsh, Waterloo        20962     CLASSIC          4m 4s   \n",
       "4  St Martins Close, Camden Town        57448     CLASSIC        18m 29s   \n",
       "\n",
       "   Total duration (ms)  \n",
       "0              1224353  \n",
       "1               378747  \n",
       "2               620273  \n",
       "3               244652  \n",
       "4              1109695  "
      ]
     },
     "execution_count": 25,
     "metadata": {},
     "output_type": "execute_result"
    }
   ],
   "source": [
    "response = s3.Object(bucket_name, file_name).get()\n",
    "data = response['Body'].read().decode('utf-8')\n",
    "df = pd.read_csv(StringIO(data))\n",
    "df.head()"
   ]
  },
  {
   "cell_type": "markdown",
   "id": "6e1b8eaf",
   "metadata": {},
   "source": [
    "# Moving the data from the Data Lake to Data Warehouse"
   ]
  },
  {
   "cell_type": "markdown",
   "id": "1f734077",
   "metadata": {},
   "source": [
    "## Creating Data Warehouse"
   ]
  },
  {
   "cell_type": "code",
   "execution_count": 81,
   "id": "7b75691f",
   "metadata": {},
   "outputs": [
    {
     "name": "stdout",
     "output_type": "stream",
     "text": [
      "Cluster created: bycle-london-cluster\n"
     ]
    }
   ],
   "source": [
    "redshift = boto3.client('redshift',  region_name=region_name)\n",
    "response = redshift.create_cluster(**cluster_params)\n",
    "print(\"Cluster created:\", response['Cluster']['ClusterIdentifier'])"
   ]
  },
  {
   "cell_type": "code",
   "execution_count": 95,
   "id": "3463c10c",
   "metadata": {},
   "outputs": [],
   "source": [
    "time.sleep(90) # Wait for Creating of cluster\n",
    "cluster_id = response['Cluster']['ClusterIdentifier']\n",
    "cluster_details = redshift.describe_clusters(ClusterIdentifier=cluster_id)"
   ]
  },
  {
   "cell_type": "code",
   "execution_count": 111,
   "id": "f4225ba2",
   "metadata": {},
   "outputs": [
    {
     "name": "stdout",
     "output_type": "stream",
     "text": [
      "\n",
      "Connection Settings:\n",
      "Port: 5439\n"
     ]
    }
   ],
   "source": [
    "endpoint = cluster_details['Clusters'][0]['Endpoint']\n",
    "port = endpoint['Port']\n",
    "host = endpoint['Address']\n",
    "username = cluster_params['MasterUsername']\n",
    "password = cluster_params['MasterUserPassword']\n",
    "database = cluster_params['DBName']\n",
    "\n",
    "## Put this information into the DBT\n",
    "print(\"\\nConnection Settings:\")\n",
    "print(\"Host:\", host)\n",
    "print(\"Port:\", port)\n",
    "print(\"Database:\", database)\n",
    "print(\"Username:\", username)\n",
    "print(\"Password:\", password)"
   ]
  },
  {
   "cell_type": "code",
   "execution_count": 103,
   "id": "65b0fa4b",
   "metadata": {},
   "outputs": [
    {
     "name": "stdout",
     "output_type": "stream",
     "text": [
      "Inbound traffic on port 5439 is now allowed from any IP address.\n"
     ]
    }
   ],
   "source": [
    "# Permit inbound traffic to the dataset\n",
    "security_group_id = cluster_details['Clusters'][0]['VpcSecurityGroups'][0]['VpcSecurityGroupId']\n",
    "try:\n",
    "    ec2 = boto3.client('ec2', region_name=region_name)\n",
    "    ec2.authorize_security_group_ingress(\n",
    "        GroupId=security_group_id,\n",
    "        IpProtocol='TCP',\n",
    "        FromPort=5439,\n",
    "        ToPort=5439,\n",
    "        CidrIp='0.0.0.0/0'\n",
    "    )\n",
    "    print(\"Inbound traffic on port 5439 is now allowed from any IP address.\")\n",
    "except Exception as e:\n",
    "    print(\"An error occurred while authorizing ingress:\", e)"
   ]
  },
  {
   "cell_type": "code",
   "execution_count": 104,
   "id": "9726e512",
   "metadata": {},
   "outputs": [
    {
     "name": "stdout",
     "output_type": "stream",
     "text": [
      "Connected to Redshift!\n"
     ]
    }
   ],
   "source": [
    "try:\n",
    "    conn = psycopg2.connect(\n",
    "        host=host, \n",
    "        port=port, \n",
    "        database=database, \n",
    "        user = username, \n",
    "        password = password\n",
    "    )\n",
    "    print(\"Connected to Redshift!\")\n",
    "except Exception as e:\n",
    "    print(\"Unable to connect to Redshift:\", e)\n",
    "\n",
    "# Close the connection\n",
    "conn.close()"
   ]
  }
 ],
 "metadata": {
  "kernelspec": {
   "display_name": "Python 3 (ipykernel)",
   "language": "python",
   "name": "python3"
  },
  "language_info": {
   "codemirror_mode": {
    "name": "ipython",
    "version": 3
   },
   "file_extension": ".py",
   "mimetype": "text/x-python",
   "name": "python",
   "nbconvert_exporter": "python",
   "pygments_lexer": "ipython3",
   "version": "3.11.9"
  }
 },
 "nbformat": 4,
 "nbformat_minor": 5
}
